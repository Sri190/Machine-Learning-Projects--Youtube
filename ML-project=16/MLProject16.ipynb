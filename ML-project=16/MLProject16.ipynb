{
 "cells": [
  {
   "cell_type": "code",
   "execution_count": 23,
   "id": "1cf52c52-0001-462d-a918-2c7567d438a5",
   "metadata": {},
   "outputs": [
    {
     "name": "stdout",
     "output_type": "stream",
     "text": [
      "\n",
      "\n",
      "*******************Model Name :  Naive Bayes *********************\n",
      "\n",
      "Confusion-Matrix : [[38  4]\n",
      " [ 4 68]]\n",
      "Accuracy : 0.9298245614035088\n",
      "Precision : 0.9444444444444444\n",
      "Recall : 0.9444444444444444\n",
      "F1score : 0.9444444444444444\n",
      "\n",
      "\n",
      "*******************Model Name :  KNN *********************\n",
      "\n",
      "Confusion-Matrix : [[39  3]\n",
      " [ 1 71]]\n",
      "Accuracy : 0.9649122807017544\n",
      "Precision : 0.9594594594594594\n",
      "Recall : 0.9861111111111112\n",
      "F1score : 0.9726027397260274\n",
      "\n",
      "\n",
      "*******************Model Name :  RandomForestClassifier *********************\n",
      "\n",
      "Confusion-Matrix : [[39  3]\n",
      " [ 2 70]]\n",
      "Accuracy : 0.956140350877193\n",
      "Precision : 0.958904109589041\n",
      "Recall : 0.9722222222222222\n",
      "F1score : 0.9655172413793104\n",
      "\n",
      "\n",
      "*******************Model Name :  DecisionTreeClassifier *********************\n",
      "\n",
      "Confusion-Matrix : [[39  3]\n",
      " [ 5 67]]\n",
      "Accuracy : 0.9298245614035088\n",
      "Precision : 0.9571428571428572\n",
      "Recall : 0.9305555555555556\n",
      "F1score : 0.9436619718309859\n",
      "\n",
      "\n",
      "*******************Model Name :  SVM *********************\n",
      "\n",
      "Confusion-Matrix : [[41  1]\n",
      " [ 2 70]]\n",
      "Accuracy : 0.9736842105263158\n",
      "Precision : 0.9859154929577465\n",
      "Recall : 0.9722222222222222\n",
      "F1score : 0.9790209790209791\n"
     ]
    }
   ],
   "source": [
    "#Import All The Libraries\n",
    "import pandas as pd\n",
    "import numpy as np\n",
    "from sklearn.tree import DecisionTreeClassifier\n",
    "from sklearn.naive_bayes import GaussianNB\n",
    "from sklearn.neighbors import KNeighborsClassifier\n",
    "from sklearn.ensemble import RandomForestClassifier\n",
    "from sklearn.svm import SVC\n",
    "from sklearn.preprocessing import StandardScaler\n",
    "from sklearn.model_selection import train_test_split\n",
    "from sklearn.metrics import accuracy_score,precision_score,recall_score,f1_score,confusion_matrix\n",
    "\n",
    "#Import the Dataset\n",
    "df_1=pd.read_csv(\"data.csv\")\n",
    "\n",
    "#Data Cleaning\n",
    "df=df_1.drop(\"Unnamed: 32\",axis=1)\n",
    "df['diagnosis']=df['diagnosis'].map({'M':0,'B':1})\n",
    "\n",
    "#Data Preprocessing\n",
    "scalar=StandardScaler()\n",
    "X=df.drop(\"diagnosis\",axis=1)\n",
    "y=df[\"diagnosis\"]\n",
    "x=pd.DataFrame(scalar.fit_transform(X),columns=X.columns)\n",
    "\n",
    "#Train-Test Split\n",
    "x_train,x_test,y_train,y_test=train_test_split(x,y,test_size=0.2,random_state=42,stratify=y)\n",
    "\n",
    "#Models Prediction\n",
    "models=[]\n",
    "models.append(('Naive Bayes',GaussianNB()))\n",
    "models.append(('KNN',KNeighborsClassifier()))\n",
    "models.append(('RandomForestClassifier',RandomForestClassifier()))\n",
    "models.append(('DecisionTreeClassifier',DecisionTreeClassifier()))\n",
    "models.append(('SVM',SVC(kernel='linear')))\n",
    "\n",
    "#Find Its Accuracy,Confusion-Matrix,Precision,Recall,F1-Score\n",
    "for name,model in models:\n",
    "    print(\"\\n\")\n",
    "    print(\"*******************Model Name : \",name,\"*********************\")\n",
    "    print()\n",
    "    model.fit(x_train,y_train)\n",
    "    y_pred=model.predict(x_test)\n",
    "    print(\"Confusion-Matrix :\",confusion_matrix(y_test,y_pred))\n",
    "    print(\"Accuracy :\",accuracy_score(y_test,y_pred))\n",
    "    print(\"Precision :\",precision_score(y_test,y_pred))\n",
    "    print(\"Recall :\",recall_score(y_test,y_pred))\n",
    "    print(\"F1score :\",f1_score(y_test,y_pred))"
   ]
  },
  {
   "cell_type": "code",
   "execution_count": 17,
   "id": "ae806c24-9fcb-467f-be10-a5e3ebd500d2",
   "metadata": {},
   "outputs": [
    {
     "data": {
      "text/plain": [
       "diagnosis\n",
       "B    357\n",
       "M    212\n",
       "Name: count, dtype: int64"
      ]
     },
     "execution_count": 17,
     "metadata": {},
     "output_type": "execute_result"
    }
   ],
   "source": [
    "df[\"diagnosis\"].value_counts()"
   ]
  },
  {
   "cell_type": "code",
   "execution_count": null,
   "id": "6ff56d18-2207-42c4-b28c-fe912d65bc65",
   "metadata": {},
   "outputs": [],
   "source": []
  }
 ],
 "metadata": {
  "kernelspec": {
   "display_name": "Python [conda env:base] *",
   "language": "python",
   "name": "conda-base-py"
  },
  "language_info": {
   "codemirror_mode": {
    "name": "ipython",
    "version": 3
   },
   "file_extension": ".py",
   "mimetype": "text/x-python",
   "name": "python",
   "nbconvert_exporter": "python",
   "pygments_lexer": "ipython3",
   "version": "3.12.7"
  }
 },
 "nbformat": 4,
 "nbformat_minor": 5
}
