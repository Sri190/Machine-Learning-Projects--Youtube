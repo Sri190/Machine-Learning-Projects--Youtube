{
 "cells": [
  {
   "cell_type": "code",
   "execution_count": 5,
   "id": "ab369df6-e0a1-458f-9f37-0cd4a8ff4450",
   "metadata": {},
   "outputs": [
    {
     "name": "stdout",
     "output_type": "stream",
     "text": [
      "\n",
      "***** Model : Support Vector Machine *****\n",
      "\n",
      "Accuracy score: 0.8225806451612904\n"
     ]
    }
   ],
   "source": [
    "#Import All The Libraries\n",
    "import numpy as np\n",
    "import pandas as pd\n",
    "import matplotlib.pyplot as plt\n",
    "import seaborn as sns\n",
    "import scipy.stats as stats\n",
    "from sklearn.preprocessing import StandardScaler\n",
    "from sklearn.model_selection import train_test_split\n",
    "from sklearn.metrics import accuracy_score\n",
    "from sklearn.svm import SVC\n",
    "\n",
    "#Import The Dataset\n",
    "df=pd.read_csv(\"Loan.csv\")\n",
    "\n",
    "#Data Preprocessing\n",
    "df[\"Loan_Status\"]=df[\"Loan_Status\"].map({'Y':1,'N':0})\n",
    "df[\"Married\"]=df[\"Married\"].map({\"Yes\":1,\"No\":0})\n",
    "df[\"Self_Employed\"]=df[\"Self_Employed\"].map({\"Yes\":1,\"No\":0})\n",
    "df[\"Gender\"]=df[\"Gender\"].map({\"Male\":1,\"Female\":0})\n",
    "df[\"Education\"]=df[\"Education\"].map({\"Graduate\":1,\"Not Graduate\":0})\n",
    "df[\"Property_Area\"]=df[\"Property_Area\"].map({'Rural':0,'Semiurban':1,'Urban':2})\n",
    "df[\"Dependents\"]=df[\"Dependents\"].map({\"3+\":4})\n",
    "\n",
    "df.drop('Loan_ID',axis=1,inplace=True)\n",
    "\n",
    "def Mean_value(df,column):\n",
    "    mean_value=df[column].mean()\n",
    "    df.fillna({column:mean_value},inplace=True)\n",
    "def Mode_value(df,column):\n",
    "    mode_value=df[column].mode()[0]\n",
    "    df.fillna({column:mode_value},inplace=True)\n",
    "num_col=[col for col in df.columns if df[col].dtype==\"float64\"]\n",
    "odj_col=[col for col in df.columns if df[col].dtype==\"object\"]\n",
    "for col in odj_col:\n",
    "    Mode_value(df,col)\n",
    "for col in num_col:\n",
    "    Mean_value(df,col)\n",
    "\n",
    "#Train-Test-Split\n",
    "X=df.drop(\"Loan_Status\",axis=1)\n",
    "y=df[\"Loan_Status\"]\n",
    "scaler = StandardScaler()\n",
    "x=pd.DataFrame(scaler.fit_transform(X),columns=X.columns)\n",
    "x_train,x_test,y_train,y_test=train_test_split(x,y,test_size=0.1,stratify=y,random_state=42)\n",
    "\n",
    "#Model Training\n",
    "print()\n",
    "print(\"***** Model : Support Vector Machine *****\")\n",
    "print()\n",
    "model=SVC(kernel='linear')\n",
    "model.fit(x_train,y_train)\n",
    "x_pred=model.predict(x_test)\n",
    "print(\"Accuracy score:\",accuracy_score(y_test,x_pred))"
   ]
  },
  {
   "cell_type": "code",
   "execution_count": null,
   "id": "a8922689-b682-4ef6-8574-58a4cb5576c3",
   "metadata": {},
   "outputs": [],
   "source": []
  }
 ],
 "metadata": {
  "kernelspec": {
   "display_name": "Python [conda env:base] *",
   "language": "python",
   "name": "conda-base-py"
  },
  "language_info": {
   "codemirror_mode": {
    "name": "ipython",
    "version": 3
   },
   "file_extension": ".py",
   "mimetype": "text/x-python",
   "name": "python",
   "nbconvert_exporter": "python",
   "pygments_lexer": "ipython3",
   "version": "3.12.7"
  }
 },
 "nbformat": 4,
 "nbformat_minor": 5
}
